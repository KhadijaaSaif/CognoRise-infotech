{
  "nbformat": 4,
  "nbformat_minor": 0,
  "metadata": {
    "colab": {
      "provenance": []
    },
    "kernelspec": {
      "name": "python3",
      "display_name": "Python 3"
    },
    "language_info": {
      "name": "python"
    }
  },
  "cells": [
    {
      "cell_type": "code",
      "execution_count": 2,
      "metadata": {
        "id": "mtw7oDe7oIMM"
      },
      "outputs": [],
      "source": [
        "import pandas as pd\n",
        "from sklearn.model_selection import train_test_split\n",
        "from sklearn.linear_model import LinearRegression\n",
        "from sklearn.metrics import mean_squared_error, r2_score\n",
        "from sklearn.preprocessing import LabelEncoder"
      ]
    },
    {
      "cell_type": "code",
      "source": [
        "data = pd.read_csv('/content/data.csv')"
      ],
      "metadata": {
        "id": "iQsSeSVjuayi"
      },
      "execution_count": 3,
      "outputs": []
    },
    {
      "cell_type": "code",
      "source": [
        "# Display the first few rows of the dataset\n",
        "print(data.head())"
      ],
      "metadata": {
        "colab": {
          "base_uri": "https://localhost:8080/"
        },
        "id": "57mCRwc6uu6Q",
        "outputId": "2274467d-ef7c-41ce-fa74-c5143c85519a"
      },
      "execution_count": 4,
      "outputs": [
        {
          "output_type": "stream",
          "name": "stdout",
          "text": [
            "                  date      price  bedrooms  bathrooms  sqft_living  sqft_lot  \\\n",
            "0  2014-05-02 00:00:00   313000.0       3.0       1.50         1340      7912   \n",
            "1  2014-05-02 00:00:00  2384000.0       5.0       2.50         3650      9050   \n",
            "2  2014-05-02 00:00:00   342000.0       3.0       2.00         1930     11947   \n",
            "3  2014-05-02 00:00:00   420000.0       3.0       2.25         2000      8030   \n",
            "4  2014-05-02 00:00:00   550000.0       4.0       2.50         1940     10500   \n",
            "\n",
            "   floors  waterfront  view  condition  sqft_above  sqft_basement  yr_built  \\\n",
            "0     1.5           0     0          3        1340              0      1955   \n",
            "1     2.0           0     4          5        3370            280      1921   \n",
            "2     1.0           0     0          4        1930              0      1966   \n",
            "3     1.0           0     0          4        1000           1000      1963   \n",
            "4     1.0           0     0          4        1140            800      1976   \n",
            "\n",
            "   yr_renovated                    street       city  statezip country  \n",
            "0          2005      18810 Densmore Ave N  Shoreline  WA 98133     USA  \n",
            "1             0           709 W Blaine St    Seattle  WA 98119     USA  \n",
            "2             0  26206-26214 143rd Ave SE       Kent  WA 98042     USA  \n",
            "3             0           857 170th Pl NE   Bellevue  WA 98008     USA  \n",
            "4          1992         9105 170th Ave NE    Redmond  WA 98052     USA  \n"
          ]
        }
      ]
    },
    {
      "cell_type": "code",
      "source": [
        "# Preprocessing\n",
        "# Convert categorical columns to numerical ones if necessary (e.g., 'location')\n",
        "if 'location' in data.columns:\n",
        "    label_encoder = LabelEncoder()\n",
        "    data['location'] = label_encoder.fit_transform(data['location'])"
      ],
      "metadata": {
        "id": "kiEJ-5F7u-d2"
      },
      "execution_count": 5,
      "outputs": []
    },
    {
      "cell_type": "code",
      "source": [
        "# check for missing values and handle them\n",
        "data = data.dropna() # dropping rows with missing values"
      ],
      "metadata": {
        "id": "KMrv_WaGvQdD"
      },
      "execution_count": 6,
      "outputs": []
    },
    {
      "cell_type": "code",
      "source": [
        "# feature and 'price' is the target variable\n",
        "X = data[['sqft_living', 'bedrooms', 'bathrooms', 'floors', 'waterfront', 'view', 'condition', 'sqft_above', 'sqft_basement', 'yr_built', 'yr_renovated']]\n",
        "y = data['price']\n"
      ],
      "metadata": {
        "id": "vN2FGsFTygjk"
      },
      "execution_count": 22,
      "outputs": []
    },
    {
      "cell_type": "code",
      "source": [
        "# Split the dataset into training and testing sets\n",
        "X_train, X_test, y_train, y_test = train_test_split(X, y, test_size=0.2, random_state=42)\n"
      ],
      "metadata": {
        "id": "uIsr4nQMyrqd"
      },
      "execution_count": 23,
      "outputs": []
    },
    {
      "cell_type": "code",
      "source": [
        "# Initialize the Linear Regression model\n",
        "model = LinearRegression()"
      ],
      "metadata": {
        "id": "6unqjOIdzaDx"
      },
      "execution_count": 24,
      "outputs": []
    },
    {
      "cell_type": "code",
      "source": [
        "# Train the model on the training data\n",
        "model.fit(X_train, y_train)"
      ],
      "metadata": {
        "colab": {
          "base_uri": "https://localhost:8080/",
          "height": 74
        },
        "id": "3RKLs5GJziW6",
        "outputId": "cf402876-a939-4f23-87d7-a96331ae7bc2"
      },
      "execution_count": 25,
      "outputs": [
        {
          "output_type": "execute_result",
          "data": {
            "text/plain": [
              "LinearRegression()"
            ],
            "text/html": [
              "<style>#sk-container-id-2 {color: black;background-color: white;}#sk-container-id-2 pre{padding: 0;}#sk-container-id-2 div.sk-toggleable {background-color: white;}#sk-container-id-2 label.sk-toggleable__label {cursor: pointer;display: block;width: 100%;margin-bottom: 0;padding: 0.3em;box-sizing: border-box;text-align: center;}#sk-container-id-2 label.sk-toggleable__label-arrow:before {content: \"▸\";float: left;margin-right: 0.25em;color: #696969;}#sk-container-id-2 label.sk-toggleable__label-arrow:hover:before {color: black;}#sk-container-id-2 div.sk-estimator:hover label.sk-toggleable__label-arrow:before {color: black;}#sk-container-id-2 div.sk-toggleable__content {max-height: 0;max-width: 0;overflow: hidden;text-align: left;background-color: #f0f8ff;}#sk-container-id-2 div.sk-toggleable__content pre {margin: 0.2em;color: black;border-radius: 0.25em;background-color: #f0f8ff;}#sk-container-id-2 input.sk-toggleable__control:checked~div.sk-toggleable__content {max-height: 200px;max-width: 100%;overflow: auto;}#sk-container-id-2 input.sk-toggleable__control:checked~label.sk-toggleable__label-arrow:before {content: \"▾\";}#sk-container-id-2 div.sk-estimator input.sk-toggleable__control:checked~label.sk-toggleable__label {background-color: #d4ebff;}#sk-container-id-2 div.sk-label input.sk-toggleable__control:checked~label.sk-toggleable__label {background-color: #d4ebff;}#sk-container-id-2 input.sk-hidden--visually {border: 0;clip: rect(1px 1px 1px 1px);clip: rect(1px, 1px, 1px, 1px);height: 1px;margin: -1px;overflow: hidden;padding: 0;position: absolute;width: 1px;}#sk-container-id-2 div.sk-estimator {font-family: monospace;background-color: #f0f8ff;border: 1px dotted black;border-radius: 0.25em;box-sizing: border-box;margin-bottom: 0.5em;}#sk-container-id-2 div.sk-estimator:hover {background-color: #d4ebff;}#sk-container-id-2 div.sk-parallel-item::after {content: \"\";width: 100%;border-bottom: 1px solid gray;flex-grow: 1;}#sk-container-id-2 div.sk-label:hover label.sk-toggleable__label {background-color: #d4ebff;}#sk-container-id-2 div.sk-serial::before {content: \"\";position: absolute;border-left: 1px solid gray;box-sizing: border-box;top: 0;bottom: 0;left: 50%;z-index: 0;}#sk-container-id-2 div.sk-serial {display: flex;flex-direction: column;align-items: center;background-color: white;padding-right: 0.2em;padding-left: 0.2em;position: relative;}#sk-container-id-2 div.sk-item {position: relative;z-index: 1;}#sk-container-id-2 div.sk-parallel {display: flex;align-items: stretch;justify-content: center;background-color: white;position: relative;}#sk-container-id-2 div.sk-item::before, #sk-container-id-2 div.sk-parallel-item::before {content: \"\";position: absolute;border-left: 1px solid gray;box-sizing: border-box;top: 0;bottom: 0;left: 50%;z-index: -1;}#sk-container-id-2 div.sk-parallel-item {display: flex;flex-direction: column;z-index: 1;position: relative;background-color: white;}#sk-container-id-2 div.sk-parallel-item:first-child::after {align-self: flex-end;width: 50%;}#sk-container-id-2 div.sk-parallel-item:last-child::after {align-self: flex-start;width: 50%;}#sk-container-id-2 div.sk-parallel-item:only-child::after {width: 0;}#sk-container-id-2 div.sk-dashed-wrapped {border: 1px dashed gray;margin: 0 0.4em 0.5em 0.4em;box-sizing: border-box;padding-bottom: 0.4em;background-color: white;}#sk-container-id-2 div.sk-label label {font-family: monospace;font-weight: bold;display: inline-block;line-height: 1.2em;}#sk-container-id-2 div.sk-label-container {text-align: center;}#sk-container-id-2 div.sk-container {/* jupyter's `normalize.less` sets `[hidden] { display: none; }` but bootstrap.min.css set `[hidden] { display: none !important; }` so we also need the `!important` here to be able to override the default hidden behavior on the sphinx rendered scikit-learn.org. See: https://github.com/scikit-learn/scikit-learn/issues/21755 */display: inline-block !important;position: relative;}#sk-container-id-2 div.sk-text-repr-fallback {display: none;}</style><div id=\"sk-container-id-2\" class=\"sk-top-container\"><div class=\"sk-text-repr-fallback\"><pre>LinearRegression()</pre><b>In a Jupyter environment, please rerun this cell to show the HTML representation or trust the notebook. <br />On GitHub, the HTML representation is unable to render, please try loading this page with nbviewer.org.</b></div><div class=\"sk-container\" hidden><div class=\"sk-item\"><div class=\"sk-estimator sk-toggleable\"><input class=\"sk-toggleable__control sk-hidden--visually\" id=\"sk-estimator-id-2\" type=\"checkbox\" checked><label for=\"sk-estimator-id-2\" class=\"sk-toggleable__label sk-toggleable__label-arrow\">LinearRegression</label><div class=\"sk-toggleable__content\"><pre>LinearRegression()</pre></div></div></div></div></div>"
            ]
          },
          "metadata": {},
          "execution_count": 25
        }
      ]
    },
    {
      "cell_type": "code",
      "source": [
        "# Predict the prices for the test data\n",
        "y_pred = model.predict(X_test)"
      ],
      "metadata": {
        "id": "qXfATgJhztSt"
      },
      "execution_count": 26,
      "outputs": []
    },
    {
      "cell_type": "code",
      "source": [
        "# Evaluate the model\n",
        "mse = mean_squared_error(y_test, y_pred)\n",
        "r2 = r2_score(y_test, y_pred)"
      ],
      "metadata": {
        "id": "4-ovI5Jkz0XB"
      },
      "execution_count": 27,
      "outputs": []
    },
    {
      "cell_type": "code",
      "source": [
        "print(f'Mean Squared Error: {mse}')\n",
        "print(f'R^2 Score: {r2}')"
      ],
      "metadata": {
        "colab": {
          "base_uri": "https://localhost:8080/"
        },
        "id": "EgaAS4Kq0d5h",
        "outputId": "28ee3808-499b-4c15-fbbc-c7f32924140c"
      },
      "execution_count": 28,
      "outputs": [
        {
          "output_type": "stream",
          "name": "stdout",
          "text": [
            "Mean Squared Error: 988408597251.4451\n",
            "R^2 Score: 0.030825960343034642\n"
          ]
        }
      ]
    },
    {
      "cell_type": "code",
      "source": [
        "print(\"Predicted prices:\", y_pred)"
      ],
      "metadata": {
        "colab": {
          "base_uri": "https://localhost:8080/"
        },
        "id": "EsSbj_nd2EDM",
        "outputId": "0c757350-a6e6-478d-a75e-81856df80c76"
      },
      "execution_count": 32,
      "outputs": [
        {
          "output_type": "stream",
          "name": "stdout",
          "text": [
            "Predicted prices: [ 304559.89148819  325068.35592739 1069440.74757485  540490.06343661\n",
            "  379627.01331517  599273.23261755  479347.78596903  415754.1608087\n",
            "  507024.18239666  530978.15835431  674454.31471552  411788.39166424\n",
            "  825346.86035728  414536.58595889  367031.61003125  702417.76853025\n",
            "  679473.74304248  673135.71010706 1010573.84077922  872725.34604926\n",
            " 1363273.68408337  633796.16470343  629898.57459228  468920.69575344\n",
            "  162135.55163342  231193.31384184  664311.41679543  877242.41188907\n",
            "  257347.38793392  971335.93446069 1869490.2075607   478635.97938703\n",
            " 1278583.00227083  429546.36268729  180003.03432157  337837.67753487\n",
            "  781955.37956445 1006087.01202825  234653.09930637  537039.3793855\n",
            "  425382.23544961  239594.58436598  433000.2477333   374608.00839796\n",
            "  317674.60557239  315567.03934141  465082.89283737  571905.85379593\n",
            "  824031.72060553  454251.63336287 1205545.9709939   383098.69164824\n",
            "  459671.38910299  633934.81349206  291498.16623262  351183.74813146\n",
            "  969770.74549557  766488.57592388 1033036.56617883  285896.18095687\n",
            "  549094.74247755  922296.84976224  229736.06044475  900235.72011945\n",
            "  769230.34535561  556231.29633539  632196.93646768  580548.6027862\n",
            "  346052.92783647  289876.362715   1003281.79489569  396298.81251048\n",
            "  362563.34494727  868865.68993112  347260.1700821   759902.45921059\n",
            "  535397.41889349  764198.86532938  477258.1351922   229014.22586192\n",
            "  557723.68668363  305790.89402471  519834.24260258  827821.50893917\n",
            "  367095.91655535  267791.21200096  381072.71778747  582390.57213837\n",
            "  894407.32180368  319722.5229244   858558.72866769  288926.06130274\n",
            "  301714.90859301  467623.2442438   640695.87348578 1133328.05140703\n",
            "  717636.46267552  708049.49003645  454033.31458099  469851.42607572\n",
            "  496638.18340176  378909.92443746  240714.94391995  460793.21175986\n",
            "  476622.63854137  976590.47005848  657295.34231064  287715.55484478\n",
            "  679896.3505391   578503.29317777  602196.32045027  571574.5515044\n",
            "  289846.11685573  382738.15285426  991915.56802606  535356.69457966\n",
            "  523629.87659335  677156.67148688  465282.73088814  351124.69597247\n",
            "  709031.71434943  640384.54796228  724863.29091221  525974.58374442\n",
            "  261553.95817751  307626.30704752  848197.05445116  454949.57142533\n",
            "  316181.31178958  625704.61607604  410031.43865029  420118.79190721\n",
            "  733512.87182282  366005.71884278  271714.63654857  340334.00437821\n",
            "  322378.10514071  309360.6310492   600014.33024549  716083.25299591\n",
            "  355724.13453656  434845.65221469  532580.46211569  350663.30133095\n",
            "  954197.91388518  838798.4666548   246661.93373242  307006.72186324\n",
            "  263414.32657432  294464.36885801  400790.59209032  710515.97881816\n",
            "  702627.80258235  294110.07721274  755661.47765813  633350.7851779\n",
            " 1255615.77378873  855651.68953577  402819.50003942  250759.00326969\n",
            "  374955.37960663  933677.9034935   379432.59643921  610151.0921927\n",
            "  511796.34198229  588713.7334284   841591.85494103  304466.75175779\n",
            "  617105.42404084  946204.9173585   203145.91089145  466673.17634952\n",
            "  867949.37507026  350303.45790563  679599.61037681  818053.76337604\n",
            "  291642.55374695  657799.82656267  661168.65320159  334024.53150194\n",
            "  444247.28640521  210556.65041825  707629.33012929  386214.06280559\n",
            "  379093.57894823 1661658.06768664  689852.36117465  338708.04879377\n",
            "  624912.58823174  428741.81213418  851051.47394739  234145.14291688\n",
            "  235524.3115073   643215.35391063  511314.65968559 1481397.23027159\n",
            "  802590.41525494  966877.04634219  236014.02980865  204273.69288275\n",
            "  330752.61275293  594970.20924896  163229.39465145  587030.42676542\n",
            "  462901.15294934  507243.81414413  622811.1956041   533288.41178308\n",
            "  335232.44355311  813848.21775256  604708.430674    390523.80617876\n",
            "  870952.79729247  477381.24349299  559733.90335455  380076.27326028\n",
            "  279850.91233814  348773.67768702  421027.75224192  352853.78207667\n",
            "  703335.84153861  647142.80928221  253285.38897156  550067.99952762\n",
            "  679376.98227929  541344.21910336  362527.09466497  333641.3768742\n",
            "  545967.6293225   715129.72198294  245437.73653891  350970.06051978\n",
            "  294887.03632996  448047.31070097  651345.84394273  714959.46732464\n",
            " 1279918.39937783  294371.46292651  283899.70786441  349999.78498941\n",
            "  540615.823588    500599.99216172  557042.63085149  312908.92485365\n",
            "  257463.94606424  568332.60353336  482265.48921165  546867.23788579\n",
            "  367546.59859173  383794.77060392  240238.80179015  124460.67085362\n",
            "  447197.80841841  370995.81356733  337150.50868967 1348412.63459097\n",
            "  212089.18755031  785859.10293296  581055.99839198  357106.93440622\n",
            "  161998.55491618  490447.59813342  341859.2844322   308832.17910489\n",
            "  504234.23507656  570070.86157186  729154.40381334  360551.14410021\n",
            "  380849.02855944  252297.2120908  1142389.14367878  709934.94075615\n",
            "  264117.61116683  868034.38626311  393269.70057728  290417.99876262\n",
            "  327893.76432821  575519.33091633  850426.90536606  308892.80425621\n",
            "  399962.42090903  394804.8858189   534217.00264221  736572.97474786\n",
            "  456957.76471843  303512.50987946  776991.22919501  547369.80267542\n",
            " 1087463.09650076  248441.20827071  253153.7788577   526179.05084539\n",
            "  440645.08982163  714626.10646602  460305.18426866  564654.47329766\n",
            "  851090.75872607  696288.80019008  310832.66527342  513222.8646965\n",
            "  363708.00950226  742133.23919182  467630.25958024  584638.25043127\n",
            "  576250.38966985  586264.43370965  192087.12808479  278516.20095283\n",
            "  451520.21106452  590353.37753297 3858380.80954246 1637376.71835922\n",
            " 1149251.25217675 1003967.9642635   463432.95016288 1061966.56766789\n",
            "  250737.3736297   462084.35055343  909791.34248674  375936.15061915\n",
            "  594353.1143216   274306.97046121  470419.3664871   734925.20587344\n",
            "  434510.5295653   364401.48022438  287739.324314    409650.05683299\n",
            "  668085.62473539  442850.90036019  287881.82229164  640803.52697614\n",
            "  351966.22086955  499631.03762424 1059191.51879369  171761.01041534\n",
            "  462104.75176919  714465.8969232   417246.50832578 1316008.7941904\n",
            "  361725.60627523  328363.58167256  324681.48515353  572039.39290802\n",
            "  865810.24438156  298929.2432058   580665.02404056  829097.92540111\n",
            "  424719.74630195  268830.39272384  606411.12963984  247143.65749258\n",
            " 1140514.13993227  373602.60121487  468245.38347229  188383.0893417\n",
            "  379976.64346305  606435.81095308  456996.87996428  650908.63244774\n",
            "  584441.00100317  453091.0898666  1183460.07301473  328018.58252239\n",
            "  552708.82716951  802144.0575539   723516.37864476  649842.20744459\n",
            "  498384.34628384  287301.69945213  459906.96530495  719416.88488378\n",
            "  443741.34652121  314776.41385957  553211.93346335  559371.3650028\n",
            "  250226.97499993  754685.19562029  426398.89917369  499128.26974031\n",
            "  454256.78135037  299500.29153447  255164.6738345   538321.40854566\n",
            "  208720.53712674  606971.51778524  400847.63224861  938243.73461498\n",
            "  415987.5931039   351445.58164917  273607.87207699  374845.71696249\n",
            "  250226.97499993  646166.09974713  157882.95274632  865163.99179408\n",
            "  514511.1566649   589629.8941398   501783.47906305  461340.08124965\n",
            "  337084.94490146  251105.70802976 1057150.25059695  698658.37705745\n",
            "  866448.67803145  386554.46364587  879753.6975078   587804.24836434\n",
            "  337988.12523198  600088.63848362  490952.78352421  939798.49896269\n",
            "  380908.72085376  636188.16063347  530675.90465964  557723.68668363\n",
            "  259038.19868915  830362.04611052  425358.04271168  371452.77253793\n",
            "  534340.55369563  229919.58962972  464624.76030415  592198.26814422\n",
            "  649721.49928738  475990.16994941  714942.55938323  431613.86342546\n",
            "  207359.56730252  216862.81036561  249736.24723079  651084.90790136\n",
            "  503821.77052214  399127.98285756  498800.77503514  465988.2041513\n",
            "  549904.07666198  195707.5938305   194508.04358262  627113.05224788\n",
            "  740917.77235664  281632.12897962  206654.27307988  387812.95936396\n",
            "  225668.14732721  276645.46504295  197363.27049321  642151.84862301\n",
            " 1070311.53470152 1113051.86495573  605290.98578884  846149.60148583\n",
            "  748331.20109981  234168.3172824   520934.1230889   599695.75974421\n",
            "  383047.9951657   750568.31419074  685802.68411894  641318.96562849\n",
            "  284179.4314131   493908.61014744  304293.78924789  627310.85365637\n",
            "  283080.41453847 1479356.00544774  287962.16453555 1172429.14477915\n",
            "  479128.28860765 1216610.1999901   195018.36237105  780886.51149642\n",
            "  372409.97323989  267147.91731639  363045.57330398  615824.34335434\n",
            "  642541.36200783 1351571.41643348  374150.48833447  495514.59824116\n",
            "  385895.4923043  1059643.2202578   691889.8033745   691914.81955601\n",
            "  409830.02567692  511687.30265062  695310.87536468  239349.71037219\n",
            "  273104.15862861  366725.40569341  592692.09433648  386947.62746022\n",
            "  677201.43147875  242418.77745854  341898.75110196  181900.54253524\n",
            "  719155.58600561  572980.27439534  485034.50100309  422599.31528108\n",
            "  681601.23140733  380176.64030566  325674.35197344  226796.10239253\n",
            "  466781.97528014  731831.43485532  381659.49972917  419298.04075189\n",
            "  455559.38527312  280472.87181494  320290.76941269  614723.31399113\n",
            " 1102999.50239896  814194.43989289  561832.09655437  595228.24554064\n",
            "  422345.04423657  372560.09193877  458479.38634037  709680.63787571\n",
            "  349012.67991449  494335.87575135  244178.83716757  305995.59231487\n",
            "  547125.28827245  258279.95580968  849356.71595033  188417.13740988\n",
            "  167731.42740949  341577.77153109  332386.18796137  614828.73620465\n",
            "  294683.56553359  879562.41940039  497617.98931712  514789.86054883\n",
            "  408969.23945997  818165.86593862  541896.19539264  212186.0657749\n",
            "  515553.20293593  378474.8133023   184626.99715797  439888.05847901\n",
            "  441855.23615701  632034.53388788  313618.51902934  733047.65979679\n",
            "  396182.80779202  780308.55320677  301868.2923872   421814.49415141\n",
            "  793001.41712932  457738.83365668  252080.49129293  573200.59633978\n",
            "  365386.13770325  648848.21727593  404129.72857484  411404.96187323\n",
            "  410209.2469226   352336.92580237  327264.56479792  559070.77820078\n",
            "  232854.94940819  301633.29841511 1112595.43014836  695694.40917965\n",
            " 1985166.32795249  404873.00280556  669344.15600538  447468.32892015\n",
            "  733646.3112998   633162.8711087   245800.03054192  584992.35346661\n",
            "  698210.48926469  857235.81997791  725857.1917477   150649.04631049\n",
            "  272723.81969022  170346.64145052  508745.87154674 1168484.12813587\n",
            "  517210.49666034  375464.06686339  595365.65340994  481573.71907541\n",
            " 1386803.41366547  326116.47599883  398289.52151347 1346676.32448242\n",
            "  247970.56956878  216415.99289647  567539.28640002  630291.34635327\n",
            "  441867.19731824  208269.84145229  648251.33111665  537093.13966757\n",
            "  406970.17973062  236829.1243316   262340.9108931   336603.30584068\n",
            "  475131.34901863  135817.169167    608485.6212119   782215.86467428\n",
            "  733065.27323779  575347.50851731  148597.50440904  831637.60303769\n",
            "  247049.94743078  603419.56140006  749718.64307961  669024.86322582\n",
            "  410869.93510021  762622.65686301  655276.81313714 1027694.66818456\n",
            "  341008.69053645  659885.99514642 1117764.21805459  572790.22017257\n",
            "  579252.67422675  370809.05077458  463603.85498336 1043711.69856725\n",
            " 1015761.7432547   618563.26515959  504504.28203997  199391.68545153\n",
            "  566411.27086208  718927.63046749  623999.91207281  467899.504329\n",
            "  292652.92736107  214552.20076203  504485.83583441  711452.65766081\n",
            "  748680.08547118  291602.34367217  530123.25740095  819479.15569339\n",
            "  225925.06203279  279493.83315343  528096.00393445  520927.56923785\n",
            " 1251747.74411791  568658.62221006  250219.91287871  539133.95332508\n",
            "  364376.75637449  551119.56294811 1005763.93521767 1007259.55152585\n",
            "  300308.08093791  224443.07138096  811850.20134444  203506.16319717\n",
            "  548824.76068396  447552.02791775  252565.70212093  617913.07380383\n",
            "  424645.67330781  668191.66157266  432821.70936993  385060.4514257\n",
            "  583892.20834785  477124.67727881  560385.64463691  805112.72637754\n",
            "  398490.9019824  1004724.15843997  866096.28188634  438024.89889734\n",
            "  887256.06692381  942795.71172507  371522.28943514  488533.57694077\n",
            "  623136.91312214  455431.71929864  354671.28621761  505563.16864591\n",
            "  537294.26668467  217880.83390947  373780.95577406  265846.26966416\n",
            "  433632.91489705  844506.88807529  589485.31225711 1080575.20171441\n",
            "  565026.27634753  709980.8880892   572521.07265454  253283.24123937\n",
            "  512907.04460441  262763.8020177   204739.50000536  549890.89628878\n",
            "  752601.68853551 1055526.35040332  387913.70694994  779352.75047632\n",
            "  922920.76997835  661186.53289741  522279.71283206  285196.53144776\n",
            "  476945.32366024  628111.64200007 1349870.08854299  416845.43480759\n",
            "  405148.7288241   224983.33217975  276072.93705436  407583.61073743\n",
            "  210680.34549876  480559.03099258  553874.49443254  408457.4012792\n",
            "  441009.8254666   725962.2637732   777934.41818463 1180927.63340971\n",
            "  276622.0278011   424322.90812309  214405.32366305  450751.94617034\n",
            "  316906.19061456  422701.40689359  739672.38081981  818554.60457708\n",
            "  743055.32576082  605604.82517123  608609.21932387  685063.79751406\n",
            "  681107.8529149  1058736.24902843  293496.6758297   339514.95921209\n",
            "  741196.78859895  387189.31137217  562926.25227527  493451.39032396\n",
            "  439083.85758804  396846.12219684  456392.73395424  449015.95292058\n",
            "  450858.21920809  319659.18142215  186945.98422022  521887.86640048\n",
            "  728835.1567467   435403.29704849  419106.86597245  439232.80499631\n",
            "  610097.05974852  498218.17959569  210452.04582115  548549.21700106\n",
            "  500641.26508575 1181560.47726145  653335.86725522  811683.38135434\n",
            "  728031.84727224  420435.77065775  379107.11199962  494900.53873447\n",
            "  297172.37950705  724120.30988989  355912.0412402   206035.76261926\n",
            "  519911.67908894  428674.72519937  615177.27769183  559313.36679711\n",
            "  238190.52636861  395185.55385889 1007196.03752435  462157.10908288\n",
            "  284403.34332119  698750.25440266  760043.22614738  343913.64371305\n",
            "  431819.70707048  436509.57116662  327680.31578886  491005.01266562\n",
            "  740612.91360371  207397.84881953  599301.35591386  404822.10134621\n",
            "  545353.21932195  625626.07580799  708612.8050662   418588.37537826\n",
            "  552327.57296688  945921.85568371  434541.82093596  411449.32109084\n",
            "  493420.07444561  449477.10999931  507884.71478473  499381.81309715\n",
            "  191800.13126099 1042881.53805708  429950.78554394 1064286.98828447\n",
            "  554791.50535425  684842.7895997   434240.90480358  300370.36398236\n",
            "  301430.80831652  490342.08548735  608777.75620504  627494.26243686\n",
            "  462460.74612685  323797.3174963   537306.27858419  253687.29570832\n",
            "  604833.16764471  543030.84323868  371992.5376759   629566.73893214\n",
            "  688985.07960372  480188.89358129  621218.82300428  415893.2625932\n",
            "  485080.41005711  401226.92700198  549525.04414417  469020.98920855\n",
            "  421298.59036844  487754.73747028  428657.75491553  797261.4379914\n",
            "  371052.8130832   239904.27577167  525401.00482359  887939.13721969\n",
            "  716820.58511314  212605.33252135  313305.08939253  438524.31078674\n",
            "  201071.47751184  477155.89852015 1436951.91627364  384719.48712763\n",
            "  268848.91193792  371834.94196305  833184.30058861  318662.00579745\n",
            "  742878.04035128  568919.6029807  1019902.55850483  682863.09904981\n",
            "  255160.52203777  407289.71092239  756697.89673355  780037.27235518\n",
            "  433490.40946184  447272.83812336  846180.67420588  296934.58638503\n",
            "  732404.73900702  693587.07904555  399198.97069032  767645.10943996\n",
            "  512366.78380562  490594.77924265  545952.70797189  623608.46277783\n",
            "  491801.95904951  993893.32661475 1177965.16706608  816224.00962547\n",
            "  431372.95425833  556972.39396333 1891941.6755996   568301.19862418\n",
            " 1392689.75692992  936478.4750081   687276.24379222  654239.86314661\n",
            "  216984.11086195  386339.84976996  376650.56539004  352500.42167068\n",
            "  386269.96829694  236553.79494662  830069.62889191  230481.95771358\n",
            "  604108.25663637  750190.79131605  440776.30318106  469544.97493175\n",
            "  433241.20107592  696098.58649215  466382.34919118  146106.2604241\n",
            "  685624.60844102  298189.22608165  346100.95612236  378831.83953762\n",
            "  304933.94173475  616840.75658731  200277.36496217  340169.56564433\n",
            "  535125.70696034  512655.62765279  522806.57755927  638658.64925509\n",
            "  171357.09983339  505140.76282873  408322.04820304  439919.40006354\n",
            "  438753.07911472  202368.87594706  656501.58230446  541421.74707985]\n"
          ]
        }
      ]
    },
    {
      "cell_type": "code",
      "source": [
        "import pandas as pd\n",
        "from sklearn.model_selection import train_test_split\n",
        "from sklearn.preprocessing import LabelEncoder\n",
        "from sklearn.tree import DecisionTreeRegressor\n",
        "from sklearn.metrics import mean_absolute_error"
      ],
      "metadata": {
        "id": "PitSr7RcLIJj"
      },
      "execution_count": 66,
      "outputs": []
    },
    {
      "cell_type": "code",
      "source": [
        "# Load the dataset\n",
        "data = pd.read_csv('/content/data.csv')"
      ],
      "metadata": {
        "id": "ytZJSwGRLKWw"
      },
      "execution_count": 67,
      "outputs": []
    },
    {
      "cell_type": "code",
      "source": [
        "# Selecting features and target variable\n",
        "features = data[['bedrooms', 'bathrooms', 'sqft_living', 'sqft_lot', 'floors', 'waterfront',\n",
        "                 'view', 'condition', 'sqft_above', 'sqft_basement', 'yr_built', 'yr_renovated',\n",
        "                 'city']]\n",
        "target = data['price']"
      ],
      "metadata": {
        "id": "k9uU0IIwLQni"
      },
      "execution_count": 68,
      "outputs": []
    },
    {
      "cell_type": "code",
      "source": [
        "# Encoding categorical variables (city)\n",
        "label_encoder = LabelEncoder()\n",
        "features['city'] = label_encoder.fit_transform(features['city'])"
      ],
      "metadata": {
        "colab": {
          "base_uri": "https://localhost:8080/"
        },
        "id": "Bq6Yi7KzLi3B",
        "outputId": "0213385a-6171-47ba-db2a-3daa1c90f62e"
      },
      "execution_count": 69,
      "outputs": [
        {
          "output_type": "stream",
          "name": "stderr",
          "text": [
            "<ipython-input-69-398637c8f1bf>:3: SettingWithCopyWarning: \n",
            "A value is trying to be set on a copy of a slice from a DataFrame.\n",
            "Try using .loc[row_indexer,col_indexer] = value instead\n",
            "\n",
            "See the caveats in the documentation: https://pandas.pydata.org/pandas-docs/stable/user_guide/indexing.html#returning-a-view-versus-a-copy\n",
            "  features['city'] = label_encoder.fit_transform(features['city'])\n"
          ]
        }
      ]
    },
    {
      "cell_type": "code",
      "source": [
        "# Splitting the data into training and testing sets\n",
        "X_train, X_test, y_train, y_test = train_test_split(features, target, test_size=0.2, random_state=42)"
      ],
      "metadata": {
        "id": "3FSK1BcOLqLf"
      },
      "execution_count": 70,
      "outputs": []
    },
    {
      "cell_type": "code",
      "source": [
        "# Initializing the decision tree regressor model\n",
        "model = DecisionTreeRegressor(random_state=42)"
      ],
      "metadata": {
        "id": "4IE9kkATLuxb"
      },
      "execution_count": 71,
      "outputs": []
    },
    {
      "cell_type": "code",
      "source": [
        "# Training the model\n",
        "model.fit(X_train, y_train)"
      ],
      "metadata": {
        "colab": {
          "base_uri": "https://localhost:8080/",
          "height": 74
        },
        "id": "Sk7gujXuL2Qa",
        "outputId": "489a6ab2-fd96-4bda-e994-827b742ef200"
      },
      "execution_count": 72,
      "outputs": [
        {
          "output_type": "execute_result",
          "data": {
            "text/plain": [
              "DecisionTreeRegressor(random_state=42)"
            ],
            "text/html": [
              "<style>#sk-container-id-1 {color: black;}#sk-container-id-1 pre{padding: 0;}#sk-container-id-1 div.sk-toggleable {background-color: white;}#sk-container-id-1 label.sk-toggleable__label {cursor: pointer;display: block;width: 100%;margin-bottom: 0;padding: 0.3em;box-sizing: border-box;text-align: center;}#sk-container-id-1 label.sk-toggleable__label-arrow:before {content: \"▸\";float: left;margin-right: 0.25em;color: #696969;}#sk-container-id-1 label.sk-toggleable__label-arrow:hover:before {color: black;}#sk-container-id-1 div.sk-estimator:hover label.sk-toggleable__label-arrow:before {color: black;}#sk-container-id-1 div.sk-toggleable__content {max-height: 0;max-width: 0;overflow: hidden;text-align: left;background-color: #f0f8ff;}#sk-container-id-1 div.sk-toggleable__content pre {margin: 0.2em;color: black;border-radius: 0.25em;background-color: #f0f8ff;}#sk-container-id-1 input.sk-toggleable__control:checked~div.sk-toggleable__content {max-height: 200px;max-width: 100%;overflow: auto;}#sk-container-id-1 input.sk-toggleable__control:checked~label.sk-toggleable__label-arrow:before {content: \"▾\";}#sk-container-id-1 div.sk-estimator input.sk-toggleable__control:checked~label.sk-toggleable__label {background-color: #d4ebff;}#sk-container-id-1 div.sk-label input.sk-toggleable__control:checked~label.sk-toggleable__label {background-color: #d4ebff;}#sk-container-id-1 input.sk-hidden--visually {border: 0;clip: rect(1px 1px 1px 1px);clip: rect(1px, 1px, 1px, 1px);height: 1px;margin: -1px;overflow: hidden;padding: 0;position: absolute;width: 1px;}#sk-container-id-1 div.sk-estimator {font-family: monospace;background-color: #f0f8ff;border: 1px dotted black;border-radius: 0.25em;box-sizing: border-box;margin-bottom: 0.5em;}#sk-container-id-1 div.sk-estimator:hover {background-color: #d4ebff;}#sk-container-id-1 div.sk-parallel-item::after {content: \"\";width: 100%;border-bottom: 1px solid gray;flex-grow: 1;}#sk-container-id-1 div.sk-label:hover label.sk-toggleable__label {background-color: #d4ebff;}#sk-container-id-1 div.sk-serial::before {content: \"\";position: absolute;border-left: 1px solid gray;box-sizing: border-box;top: 0;bottom: 0;left: 50%;z-index: 0;}#sk-container-id-1 div.sk-serial {display: flex;flex-direction: column;align-items: center;background-color: white;padding-right: 0.2em;padding-left: 0.2em;position: relative;}#sk-container-id-1 div.sk-item {position: relative;z-index: 1;}#sk-container-id-1 div.sk-parallel {display: flex;align-items: stretch;justify-content: center;background-color: white;position: relative;}#sk-container-id-1 div.sk-item::before, #sk-container-id-1 div.sk-parallel-item::before {content: \"\";position: absolute;border-left: 1px solid gray;box-sizing: border-box;top: 0;bottom: 0;left: 50%;z-index: -1;}#sk-container-id-1 div.sk-parallel-item {display: flex;flex-direction: column;z-index: 1;position: relative;background-color: white;}#sk-container-id-1 div.sk-parallel-item:first-child::after {align-self: flex-end;width: 50%;}#sk-container-id-1 div.sk-parallel-item:last-child::after {align-self: flex-start;width: 50%;}#sk-container-id-1 div.sk-parallel-item:only-child::after {width: 0;}#sk-container-id-1 div.sk-dashed-wrapped {border: 1px dashed gray;margin: 0 0.4em 0.5em 0.4em;box-sizing: border-box;padding-bottom: 0.4em;background-color: white;}#sk-container-id-1 div.sk-label label {font-family: monospace;font-weight: bold;display: inline-block;line-height: 1.2em;}#sk-container-id-1 div.sk-label-container {text-align: center;}#sk-container-id-1 div.sk-container {/* jupyter's `normalize.less` sets `[hidden] { display: none; }` but bootstrap.min.css set `[hidden] { display: none !important; }` so we also need the `!important` here to be able to override the default hidden behavior on the sphinx rendered scikit-learn.org. See: https://github.com/scikit-learn/scikit-learn/issues/21755 */display: inline-block !important;position: relative;}#sk-container-id-1 div.sk-text-repr-fallback {display: none;}</style><div id=\"sk-container-id-1\" class=\"sk-top-container\"><div class=\"sk-text-repr-fallback\"><pre>DecisionTreeRegressor(random_state=42)</pre><b>In a Jupyter environment, please rerun this cell to show the HTML representation or trust the notebook. <br />On GitHub, the HTML representation is unable to render, please try loading this page with nbviewer.org.</b></div><div class=\"sk-container\" hidden><div class=\"sk-item\"><div class=\"sk-estimator sk-toggleable\"><input class=\"sk-toggleable__control sk-hidden--visually\" id=\"sk-estimator-id-1\" type=\"checkbox\" checked><label for=\"sk-estimator-id-1\" class=\"sk-toggleable__label sk-toggleable__label-arrow\">DecisionTreeRegressor</label><div class=\"sk-toggleable__content\"><pre>DecisionTreeRegressor(random_state=42)</pre></div></div></div></div></div>"
            ]
          },
          "metadata": {},
          "execution_count": 72
        }
      ]
    },
    {
      "cell_type": "code",
      "source": [
        "# Making predictions\n",
        "y_pred = model.predict(X_test)"
      ],
      "metadata": {
        "id": "RqSMz6ulL8V8"
      },
      "execution_count": 73,
      "outputs": []
    },
    {
      "cell_type": "code",
      "source": [
        "# Evaluating the model\n",
        "mae = mean_absolute_error(y_test, y_pred)\n",
        "print(f\"Mean Absolute Error: {mae}\")"
      ],
      "metadata": {
        "colab": {
          "base_uri": "https://localhost:8080/"
        },
        "id": "_vJrYjQbMDJz",
        "outputId": "620b5af0-70cc-4eb8-9e0c-da699a616caf"
      },
      "execution_count": 74,
      "outputs": [
        {
          "output_type": "stream",
          "name": "stdout",
          "text": [
            "Mean Absolute Error: 224769.06300766303\n"
          ]
        }
      ]
    },
    {
      "cell_type": "code",
      "source": [
        "print(\"Predicted prices:\", y_pred)"
      ],
      "metadata": {
        "colab": {
          "base_uri": "https://localhost:8080/"
        },
        "id": "uAa3f4yNMLl5",
        "outputId": "84aee634-dc18-4638-95e3-754531eff409"
      },
      "execution_count": 75,
      "outputs": [
        {
          "output_type": "stream",
          "name": "stdout",
          "text": [
            "Predicted prices: [ 300000.        235000.       1411600.        572500.\n",
            "  289000.        499000.        530000.        268500.\n",
            "  850000.        850000.        625000.        212700.\n",
            "  650000.        300000.        274950.        819000.\n",
            "  533112.        806000.       1075000.        865000.\n",
            "  400000.        525000.        689800.        525000.\n",
            "  329445.        206000.        749000.       1256500.\n",
            "  437000.        695000.        195000.        439800.\n",
            " 1800000.        298450.        440000.        648475.\n",
            "  740000.             0.        108333.333333  630000.\n",
            "  353500.        466800.        322200.        470000.\n",
            "  310000.        330000.        251555.555556  525000.\n",
            " 1256500.        569000.       1555000.        500000.\n",
            "  673476.818182  415000.        108333.333333  436500.\n",
            "  825000.        455000.        915000.        310000.\n",
            "  672500.        602000.        310000.        875000.\n",
            "  883000.        300000.        566000.        565000.\n",
            "  632500.        174500.        835000.        440000.\n",
            "  269900.        542500.        310000.        656500.\n",
            "  550000.        994000.        492500.        255000.\n",
            "  979000.        382500.        495000.        557125.\n",
            "  415000.        229500.        386000.        519000.\n",
            " 1440000.        372000.        537500.        245000.\n",
            "  396675.        409500.        776000.       1619999.\n",
            "  740000.        599000.        198000.        530000.\n",
            "  630000.        266066.666667  148000.        458500.\n",
            "  532000.       2300000.        415000.        436500.\n",
            "  232333.333333  550000.        736000.        580000.\n",
            "  197000.        268000.        480000.        449950.\n",
            "  700000.        560000.        432500.        770000.\n",
            "  650000.        665000.       1205000.        425000.\n",
            "       0.        420000.       1340000.        442500.\n",
            "  540000.        927000.        255000.        366000.\n",
            "  540000.        379950.        480000.        375000.\n",
            "  430000.        300000.        680000.       1012000.\n",
            "  312500.        407500.        530000.        406100.\n",
            " 1051000.        471500.        371000.        524950.\n",
            "  346000.        370000.        326000.        563000.\n",
            "  370000.        330000.        960000.        665000.\n",
            " 1730000.        455000.        699900.        379509.166667\n",
            "  312000.        725000.        500000.        455600.\n",
            "  589500.        339990.       1755000.        145000.\n",
            "  525000.       1275000.        428000.        220000.\n",
            "  994000.        406100.        685000.        188000.\n",
            "  455500.        963000.        385000.        266500.\n",
            "  520000.        173000.        758000.         83300.\n",
            "  257500.       2475000.        589000.        289950.\n",
            "  315000.        274950.        740000.        464500.\n",
            "  397500.        448000.        165050.        925000.\n",
            "  610000.        570000.        322500.        168333.333333\n",
            "  441750.        340000.        157500.        510000.\n",
            "  443000.        410000.        870000.        500324.\n",
            "  425000.       1030000.        317000.        290000.\n",
            "  625000.        439500.        470000.        350000.\n",
            "  275000.        275000.        549000.        550000.\n",
            " 1127000.        861990.        291500.        800000.\n",
            "  963000.        915000.        475000.        619500.\n",
            "  605000.        650000.        193000.        410000.\n",
            "  379509.166667  390000.             0.        804100.\n",
            " 1280000.        425000.        229950.        595000.\n",
            "  419000.        560000.             0.        315000.\n",
            "  212500.        915000.        200000.        276000.\n",
            "  810000.       1038000.        319950.        375000.\n",
            "  440000.        249000.        210614.285714 1300000.\n",
            "  270000.        563000.        525000.        275000.\n",
            "  218000.        736000.        300000.        237000.\n",
            "  485000.        550000.        520000.        246500.\n",
            "  216500.        300000.       1300000.        550000.\n",
            "  399900.        595000.       1035000.        334000.\n",
            "  229950.        605000.        575000.        210614.285714\n",
            "  406100.        563500.        600000.        700000.\n",
            "  375000.        245000.        840500.        265000.\n",
            " 1800000.        435000.        275000.        149000.\n",
            "  375000.        799000.        535500.        330000.\n",
            "  450000.        685000.        460000.        199000.\n",
            "  532000.        455000.        387500.        525000.\n",
            "  790000.        670000.        199990.        236000.\n",
            "  488800.        494400.             0.       1060000.\n",
            "  715000.       1051000.        440000.        263000.\n",
            "  317000.        289950.       1030000.        475000.\n",
            "  485000.        397000.        530000.        370000.\n",
            "  329900.        351250.        275000.        540000.\n",
            "  500000.        515000.        375500.        494000.\n",
            "  770000.        587206.        599950.        362500.\n",
            "  580000.       1400000.        250000.        835000.\n",
            "  211000.        239950.        211000.        435000.\n",
            "  697000.        400000.        399000.       1405000.\n",
            "  335000.        300000.        265000.        251200.\n",
            "  819000.        252350.        285000.        250000.\n",
            "  304000.        757000.        337000.        691500.\n",
            "  343000.        550000.       1039000.        402000.\n",
            "  520000.        941000.        749950.        782000.\n",
            "  399950.        229500.        690000.        378500.\n",
            "  410000.        313000.        462000.        580000.\n",
            "  290000.       1280000.        360000.        640000.\n",
            "  630000.        400000.        245000.        620000.\n",
            "  305000.        235000.        488800.        850830.\n",
            "  405000.        369950.        260000.        460000.\n",
            "  291500.        955000.        499950.        725000.\n",
            "  800000.        669950.        330000.        268971.875\n",
            "  499950.        375000.       1340000.        299950.\n",
            "  691500.        505000.       1400000.        342000.\n",
            "  390000.        230000.        550000.       1280000.\n",
            "  149500.        650000.        738000.        693000.\n",
            "  441750.        812000.             0.        248000.\n",
            "  335000.        400000.        585000.        494400.\n",
            "  567000.        326000.        475000.        235000.\n",
            "  503000.        386000.        278900.        550000.\n",
            "  915000.        382000.        560000.        525000.\n",
            "  522500.         83300.        342400.        770000.\n",
            "  180785.714286  505000.        455500.        485000.\n",
            "  441750.        267000.        299000.        551000.\n",
            "  734950.       1325000.        279000.        930000.\n",
            "  738190.857143  139000.        322000.        515000.\n",
            "  450000.        499500.        448000.        645000.\n",
            "  154950.        940000.        575000.        350000.\n",
            "  257950.        569950.        490000.        831500.\n",
            "  285000.        819000.        150000.       1085000.\n",
            "  261000.        605000.        625000.        744312.5\n",
            "  449990.       1619999.        245000.        555000.\n",
            "  280000.       1200000.        975000.        681000.\n",
            "  384950.        380000.        419000.        310000.\n",
            "  440000.        364000.        570000.        405000.\n",
            "  605500.        234950.        139000.        230000.\n",
            "  368112.5       799000.        316500.        290000.\n",
            "  440000.        374500.        325000.        488000.\n",
            "  505000.        953007.        588000.        384950.\n",
            "  640000.        153000.        499000.        741500.\n",
            " 1280000.        930000.        652500.        255000.\n",
            "  423000.        313000.        229500.       1330000.\n",
            "  300000.        760000.        213400.        280000.\n",
            "  449000.        108333.333333  847000.        228950.\n",
            "  320000.        450000.        337945.75      430000.\n",
            "  397000.        920000.        532000.        435000.\n",
            "  810000.        658000.        297950.        320000.\n",
            "  660000.        250000.        228950.        497000.\n",
            "  149500.        915000.        415000.        910000.\n",
            "  482500.        408000.        423000.        290000.\n",
            "  851000.        850000.        152000.        715000.\n",
            "  322500.        585000.        420000.             0.\n",
            "  307550.        315000.        320000.        680000.\n",
            "  170000.        387000.       1388000.        525000.\n",
            "  995000.        450000.        742000.        559950.\n",
            "  554950.        561000.        484998.        520500.\n",
            "  740000.        745000.        300000.        330000.\n",
            "  324950.        278900.        380000.       1150000.\n",
            "  411715.        322500.        799000.        279000.\n",
            "  835000.        247000.        605004.       1800000.\n",
            "  452000.        214750.        503000.        506000.\n",
            "  309780.        309000.        419000.        383000.\n",
            "  395000.        428000.        320000.        330000.\n",
            "  197500.          7800.        550000.        655500.\n",
            "  810000.        437000.        415000.        960000.\n",
            "  276000.        475000.        875000.        687500.\n",
            "  486445.833333 2100000.        596165.428571 1051000.\n",
            "  272000.        585000.        725000.        475000.\n",
            "  491950.        255000.        663000.       1200000.\n",
            " 1800000.        852500.        580000.        372500.\n",
            "  370000.        470000.        585000.        321000.\n",
            "  435000.        365000.        575550.        739888.\n",
            "  460886.923077  588000.        240000.        730000.\n",
            "  276000.        187000.        498000.       2560498.33333\n",
            "  495000.        749000.        235000.        979000.\n",
            "       0.        252980.       1240000.        688000.\n",
            "  266200.        342500.        505000.        189000.\n",
            "  534640.        453000.        245000.        849000.\n",
            "  560000.        537000.        520000.        430000.\n",
            "  740000.        470000.        415000.        365000.\n",
            "  207000.        725000.        940000.        459500.\n",
            "  575000.       1335000.        295000.        345000.\n",
            "  941000.        515000.        515000.        330000.\n",
            "  610000.        309000.        274333.333333  455500.\n",
            "  475000.        950000.        545000.       1800000.\n",
            "  287500.        750000.        234975.        357562.\n",
            "  575000.        385000.        150000.        450000.\n",
            "  925000.       1325000.        979000.        818000.\n",
            "  535000.        902000.        940000.        223000.\n",
            "  675000.             0.        687000.        334888.\n",
            "  626000.        155000.        295000.        578000.\n",
            "  402000.        590300.        575000.        575000.\n",
            "  690000.        820000.        699000.        739888.\n",
            "  437000.        326000.        285000.        279950.\n",
            "  400000.        275000.             0.        920000.\n",
            "  288500.        475000.        720000.        725000.\n",
            "  700000.       1280000.        237000.        491300.\n",
            " 1085000.        298450.        300000.        530000.\n",
            "  259585.571429  620000.        700000.        155000.\n",
            "  395000.        554000.        236000.        320000.\n",
            "  657000.        410000.        440000.        530000.\n",
            "  480000.        462000.        345000.        380000.\n",
            "  522500.       1275000.       1300000.        749950.\n",
            "  471500.        198000.        386380.        536000.\n",
            "  127160.       1087500.        295000.        542000.\n",
            "  550000.        290000.             0.        485000.\n",
            "  127160.        505000.        840000.        587000.\n",
            "  195000.        685000.        930000.        385000.\n",
            "  287200.        370000.        277000.        220000.\n",
            "  955000.        256500.        539950.        515000.\n",
            "  232000.        732000.        633634.        330675.\n",
            "  519995.       1229000.        511500.        620000.\n",
            "  624800.        530000.        565000.        604000.\n",
            "  459500.       1500000.        291000.       1000000.\n",
            "  480500.       1300000.        326000.        290256.\n",
            "  195000.        290000.        652500.        402500.\n",
            "  407500.        226550.        700000.        375000.\n",
            "  650000.        346750.        132250.        410000.\n",
            "  630000.        485000.        199000.        300000.\n",
            "  245000.        443000.        400000.        495000.\n",
            "  274333.333333  450000.        531000.             0.\n",
            "  219950.        276000.        598000.        681500.\n",
            "  363000.        320000.        640000.             0.\n",
            "  210000.        329995.             0.        174500.\n",
            "  319950.        280000.        400000.        149500.\n",
            "  488000.        316000.        863000.        720000.\n",
            "  200500.        349950.        661000.       1280000.\n",
            "  729000.        417000.       1365000.        465000.\n",
            " 1280000.        650000.        559950.        430000.\n",
            "  300000.        340000.        265000.        669950.\n",
            "  254000.        688000.       1049000.        542500.\n",
            "  475000.        285000.       2238888.        665000.\n",
            "  925000.       1030000.        739900.        729032.\n",
            "  437000.        270000.        309950.        315000.\n",
            "  615000.        315000.       1195000.        185000.\n",
            "  495000.       1365000.        535500.        442500.\n",
            "  219950.             0.        465250.        286000.\n",
            "  368112.5       339000.        296475.        420000.\n",
            "  534500.        396166.666667  447000.        321000.\n",
            "  383000.        464600.        558653.846154  469900.\n",
            "  342500.        592500.        175000.        310000.\n",
            "  744000.        342400.        650000.        327500.      ]\n"
          ]
        }
      ]
    },
    {
      "cell_type": "code",
      "source": [
        "import pandas as pd\n",
        "from sklearn.model_selection import train_test_split\n",
        "from sklearn.preprocessing import LabelEncoder\n",
        "from sklearn.ensemble import GradientBoostingRegressor\n",
        "from sklearn.metrics import mean_squared_error\n"
      ],
      "metadata": {
        "id": "ChrYqXDESDtf"
      },
      "execution_count": 81,
      "outputs": []
    },
    {
      "cell_type": "code",
      "source": [
        "data = pd.read_csv('/content/data.csv')\n"
      ],
      "metadata": {
        "id": "za9hpQ6qPGGl"
      },
      "execution_count": 82,
      "outputs": []
    },
    {
      "cell_type": "code",
      "source": [
        "# Select relevant features for the model\n",
        "features = [\n",
        "    'bedrooms', 'bathrooms', 'sqft_living', 'sqft_lot', 'floors',\n",
        "    'waterfront', 'view', 'condition', 'sqft_above', 'sqft_basement',\n",
        "    'yr_built', 'yr_renovated'\n",
        "]\n",
        "X = data[features]\n",
        "y = data['price']\n"
      ],
      "metadata": {
        "id": "5EmPohOcSSEH"
      },
      "execution_count": 83,
      "outputs": []
    },
    {
      "cell_type": "code",
      "source": [
        "# Split the data into training and testing sets\n",
        "X_train, X_test, y_train, y_test = train_test_split(X, y, test_size=0.2, random_state=42)"
      ],
      "metadata": {
        "id": "wgge544DSTOe"
      },
      "execution_count": 84,
      "outputs": []
    },
    {
      "cell_type": "code",
      "source": [
        "# Initialize and train the Gradient Boosting Regressor\n",
        "gbr = GradientBoostingRegressor(random_state=42)\n",
        "gbr.fit(X_train, y_train)"
      ],
      "metadata": {
        "colab": {
          "base_uri": "https://localhost:8080/",
          "height": 74
        },
        "id": "kvkIO0HKSppw",
        "outputId": "a43d765d-f6db-42cf-e892-ca42af5e48a6"
      },
      "execution_count": 85,
      "outputs": [
        {
          "output_type": "execute_result",
          "data": {
            "text/plain": [
              "GradientBoostingRegressor(random_state=42)"
            ],
            "text/html": [
              "<style>#sk-container-id-2 {color: black;}#sk-container-id-2 pre{padding: 0;}#sk-container-id-2 div.sk-toggleable {background-color: white;}#sk-container-id-2 label.sk-toggleable__label {cursor: pointer;display: block;width: 100%;margin-bottom: 0;padding: 0.3em;box-sizing: border-box;text-align: center;}#sk-container-id-2 label.sk-toggleable__label-arrow:before {content: \"▸\";float: left;margin-right: 0.25em;color: #696969;}#sk-container-id-2 label.sk-toggleable__label-arrow:hover:before {color: black;}#sk-container-id-2 div.sk-estimator:hover label.sk-toggleable__label-arrow:before {color: black;}#sk-container-id-2 div.sk-toggleable__content {max-height: 0;max-width: 0;overflow: hidden;text-align: left;background-color: #f0f8ff;}#sk-container-id-2 div.sk-toggleable__content pre {margin: 0.2em;color: black;border-radius: 0.25em;background-color: #f0f8ff;}#sk-container-id-2 input.sk-toggleable__control:checked~div.sk-toggleable__content {max-height: 200px;max-width: 100%;overflow: auto;}#sk-container-id-2 input.sk-toggleable__control:checked~label.sk-toggleable__label-arrow:before {content: \"▾\";}#sk-container-id-2 div.sk-estimator input.sk-toggleable__control:checked~label.sk-toggleable__label {background-color: #d4ebff;}#sk-container-id-2 div.sk-label input.sk-toggleable__control:checked~label.sk-toggleable__label {background-color: #d4ebff;}#sk-container-id-2 input.sk-hidden--visually {border: 0;clip: rect(1px 1px 1px 1px);clip: rect(1px, 1px, 1px, 1px);height: 1px;margin: -1px;overflow: hidden;padding: 0;position: absolute;width: 1px;}#sk-container-id-2 div.sk-estimator {font-family: monospace;background-color: #f0f8ff;border: 1px dotted black;border-radius: 0.25em;box-sizing: border-box;margin-bottom: 0.5em;}#sk-container-id-2 div.sk-estimator:hover {background-color: #d4ebff;}#sk-container-id-2 div.sk-parallel-item::after {content: \"\";width: 100%;border-bottom: 1px solid gray;flex-grow: 1;}#sk-container-id-2 div.sk-label:hover label.sk-toggleable__label {background-color: #d4ebff;}#sk-container-id-2 div.sk-serial::before {content: \"\";position: absolute;border-left: 1px solid gray;box-sizing: border-box;top: 0;bottom: 0;left: 50%;z-index: 0;}#sk-container-id-2 div.sk-serial {display: flex;flex-direction: column;align-items: center;background-color: white;padding-right: 0.2em;padding-left: 0.2em;position: relative;}#sk-container-id-2 div.sk-item {position: relative;z-index: 1;}#sk-container-id-2 div.sk-parallel {display: flex;align-items: stretch;justify-content: center;background-color: white;position: relative;}#sk-container-id-2 div.sk-item::before, #sk-container-id-2 div.sk-parallel-item::before {content: \"\";position: absolute;border-left: 1px solid gray;box-sizing: border-box;top: 0;bottom: 0;left: 50%;z-index: -1;}#sk-container-id-2 div.sk-parallel-item {display: flex;flex-direction: column;z-index: 1;position: relative;background-color: white;}#sk-container-id-2 div.sk-parallel-item:first-child::after {align-self: flex-end;width: 50%;}#sk-container-id-2 div.sk-parallel-item:last-child::after {align-self: flex-start;width: 50%;}#sk-container-id-2 div.sk-parallel-item:only-child::after {width: 0;}#sk-container-id-2 div.sk-dashed-wrapped {border: 1px dashed gray;margin: 0 0.4em 0.5em 0.4em;box-sizing: border-box;padding-bottom: 0.4em;background-color: white;}#sk-container-id-2 div.sk-label label {font-family: monospace;font-weight: bold;display: inline-block;line-height: 1.2em;}#sk-container-id-2 div.sk-label-container {text-align: center;}#sk-container-id-2 div.sk-container {/* jupyter's `normalize.less` sets `[hidden] { display: none; }` but bootstrap.min.css set `[hidden] { display: none !important; }` so we also need the `!important` here to be able to override the default hidden behavior on the sphinx rendered scikit-learn.org. See: https://github.com/scikit-learn/scikit-learn/issues/21755 */display: inline-block !important;position: relative;}#sk-container-id-2 div.sk-text-repr-fallback {display: none;}</style><div id=\"sk-container-id-2\" class=\"sk-top-container\"><div class=\"sk-text-repr-fallback\"><pre>GradientBoostingRegressor(random_state=42)</pre><b>In a Jupyter environment, please rerun this cell to show the HTML representation or trust the notebook. <br />On GitHub, the HTML representation is unable to render, please try loading this page with nbviewer.org.</b></div><div class=\"sk-container\" hidden><div class=\"sk-item\"><div class=\"sk-estimator sk-toggleable\"><input class=\"sk-toggleable__control sk-hidden--visually\" id=\"sk-estimator-id-2\" type=\"checkbox\" checked><label for=\"sk-estimator-id-2\" class=\"sk-toggleable__label sk-toggleable__label-arrow\">GradientBoostingRegressor</label><div class=\"sk-toggleable__content\"><pre>GradientBoostingRegressor(random_state=42)</pre></div></div></div></div></div>"
            ]
          },
          "metadata": {},
          "execution_count": 85
        }
      ]
    },
    {
      "cell_type": "code",
      "source": [
        "# Predict on the test set\n",
        "y_pred = gbr.predict(X_test)"
      ],
      "metadata": {
        "id": "utU1uVqhSTdL"
      },
      "execution_count": 86,
      "outputs": []
    },
    {
      "cell_type": "code",
      "source": [
        "# Evaluate the model\n",
        "mse = mean_squared_error(y_test, y_pred)\n",
        "rmse = mse ** 0.5\n",
        "\n",
        "print(f\"Root Mean Squared Error (RMSE): {rmse:.2f}\")\n"
      ],
      "metadata": {
        "colab": {
          "base_uri": "https://localhost:8080/"
        },
        "id": "VFhI0LV2StjP",
        "outputId": "8381e4fc-97cd-4db6-b397-3e09e697e1fc"
      },
      "execution_count": 87,
      "outputs": [
        {
          "output_type": "stream",
          "name": "stdout",
          "text": [
            "Root Mean Squared Error (RMSE): 990492.25\n"
          ]
        }
      ]
    },
    {
      "cell_type": "code",
      "source": [
        "print(\"Predicted prices:\", y_pred )"
      ],
      "metadata": {
        "colab": {
          "base_uri": "https://localhost:8080/"
        },
        "id": "xzxPuKR6TE_n",
        "outputId": "c76c1c09-869c-4f60-fed3-704deec0c784"
      },
      "execution_count": 91,
      "outputs": [
        {
          "output_type": "stream",
          "name": "stdout",
          "text": [
            "Predicted prices: [ 419121.68280367  339749.344077   1030369.00423182  472347.59907717\n",
            "  369607.6085747   578511.26405625  451655.04867718  445191.9326338\n",
            "  462257.17390384  497924.08518565  659430.79981877  473008.28177954\n",
            "  813586.76156298  733482.79566877  354071.14708148 1046754.57307255\n",
            "  716098.59334136  573878.48152728  880268.8382072   777827.44301049\n",
            "  782985.31356827  590669.53877303  600333.87234758  445994.62225145\n",
            "  321656.56246385  257121.30061509  558133.81382474  913896.31537446\n",
            "  416150.40648267  931229.1206311  2102367.7978396   458127.75722407\n",
            " 1041081.29262209  446504.41783442  291819.54767525  385106.86433938\n",
            "  727730.3443142  1002164.04491031  261147.93706971  537303.27315785\n",
            "  415543.26058204  319658.63319284  469534.17475085  363498.30760121\n",
            "  321751.16587799  331961.35935895  391343.09056389  601972.31024793\n",
            "  933288.38362131  539999.5213529  1341894.44220734  503414.68998275\n",
            "  420470.57602373  523512.23335393  237921.32009369  395129.59463417\n",
            "  942713.83185603  792600.05983021  842133.46256704  325878.64463333\n",
            "  630269.89513688 1023471.99257548  273928.60244408  936729.47248882\n",
            "  698716.64007816  519685.5120894   635641.60890915  567905.25868549\n",
            "  430304.78446652  415860.26568113  814044.7050139   461085.71088973\n",
            "  324521.30657783  966188.28785813  357657.05370657  872092.94899306\n",
            "  578913.32286911  753235.45847187  421113.18903392  346665.83502348\n",
            "  519685.5120894   355136.66296814  460312.99541611  777827.44301049\n",
            "  371905.46707156  305655.98740554  450789.74483929  528195.10867254\n",
            " 1039622.36296137  344260.53516146  827140.26810183  314897.31146822\n",
            "  320722.40333487  443736.23893964  659331.83905273 1151178.21581189\n",
            "  696146.97455801  686924.90709957  450839.77811528  402175.49931776\n",
            "  563133.26416963  429539.20362234  242153.24526151  514667.74678329\n",
            "  526813.97809782  913107.06484088  677212.29939524  371717.4846007\n",
            "  550779.64189083  578610.22482229  583116.40539607  547046.88118189\n",
            "  415281.12656055  392714.69421047 1136328.2942434   494832.40233679\n",
            "  462708.52269428  594496.26003756  431134.29560969  443705.08509262\n",
            "  594429.46489187  482671.73688591  684350.50270701  411634.712164\n",
            "  304104.5134719   377417.10583004  910155.59337039  389463.06067022\n",
            "  408617.90993109  593243.56930511  335805.74897     383999.74850601\n",
            "  626174.37738181  447774.49849675  378510.7939264   350412.79334425\n",
            "  407607.97057316  313327.46275676  523512.23335393  710380.3101081\n",
            "  406906.65950353  464030.29292369  565490.66878891  422302.12669084\n",
            "  942713.83185603  852737.31772119  369493.88783068  365899.17202414\n",
            "  317050.33147468  410531.13699471  415948.15025739  709690.88943217\n",
            "  569155.87331241  347864.06714486  751076.12911322  608729.59558766\n",
            " 1065248.63785821  839438.99009475  402994.11381964  319648.15187083\n",
            "  382486.28456948  923566.32885685  415250.9857207   521614.11859065\n",
            "  526636.32172112  519685.5120894   735849.31215281  356605.371298\n",
            "  584721.22029473 1019304.92569144  405377.56386575  448391.19159933\n",
            "  817621.3945418   422302.12669084  659430.79981877  812478.34972387\n",
            "  331624.63330315  712697.04644715  659430.79981877  372072.96425524\n",
            "  372700.66565852  248474.63885107  717409.06714579  323962.67381804\n",
            "  407441.51069873 1592026.13632629  634391.33716532  415246.71229121\n",
            "  501714.27663584  435930.71718326  798445.22152077  328564.09871861\n",
            "  332203.01644935  694478.97247004  449251.18386308 1496205.2944153\n",
            "  666481.49222061 1108980.06444133  335923.60974088  266593.62649083\n",
            "  362227.44200925  519685.5120894   226229.02095881  519685.5120894\n",
            "  376527.38692305  600244.96026304  656506.15606672  542640.31287197\n",
            "  385026.23563073  938578.50196917  444100.70327191  390744.13563985\n",
            " 1003485.95484334  481543.35710923  503137.65711001  374686.72930778\n",
            "  379117.24385289  360270.50628659  496368.61545408  383287.23435005\n",
            "  709690.88943217  692167.4608163   274900.9160739   558505.27338791\n",
            "  665850.07788371  572486.36275001  379282.85670881  346889.90071816\n",
            "  543127.78405127  683514.13079954  267137.08045653  425619.16217761\n",
            "  324098.94434006  417133.8327918   697661.76273671  689073.11092189\n",
            " 1442011.60635563  377652.75030293  317050.33147468  398514.86852275\n",
            "  466513.37236121  450362.31824348  634096.47554948  419121.68280367\n",
            "  305722.65783498  686337.36220876  429195.03039672  519685.5120894\n",
            "  334537.23574742  343725.49111562  339924.56163556  319309.09266542\n",
            "  462744.14453515  402462.09104279  386447.76867656 1153347.1755207\n",
            "  321720.12121524  725775.0058259   584709.85288929  401691.42080782\n",
            "  304988.80720456  447454.55781811  447675.53773071  296806.33870229\n",
            "  536651.03968453  546559.24600181  566812.1885505   332512.60255734\n",
            "  379529.13609488  307445.7983115  1017573.02763117  569155.87331241\n",
            "  421289.94955092  845703.52096948  417169.13947871  269771.69488552\n",
            "  390266.19090636  544673.6142102   880844.11258062  371367.56145767\n",
            "  422302.12669084  413871.78616697  487366.99413396  604007.77453003\n",
            "  409758.05112556  300414.38535765  783065.78691601  475869.84060002\n",
            " 1196221.02690542  410531.13699471  403696.37451     352205.20283346\n",
            "  429124.3621206   567623.73781675  416429.35152841  521614.11859065\n",
            "  919824.04199459  688431.41364836  368270.90503532  468826.67457846\n",
            "  419414.21893305  684350.50270701  436937.82914616  522158.72610496\n",
            "  598610.73127201  479226.26737973  250799.11022906  330303.95214267\n",
            "  408485.74821265  511897.64901569 3511004.85719971 1557180.2551526\n",
            " 1049181.52669928 1062205.91700314  454722.19160487 1299893.61554902\n",
            "  320471.24514096  417920.73516433  914436.73430738  391634.87702987\n",
            "  566258.37886943  410531.13699471  443067.9371961   670806.58783285\n",
            "  445191.9326338   405458.20647435  286104.3538995   286088.73992819\n",
            "  662594.03276571  393867.54145909  342191.1501101   691086.36566596\n",
            "  463668.960865    462275.15523826  791478.25704028  351311.91682106\n",
            "  524430.15504397  749770.75176816  389778.54156231 1034479.22046729\n",
            "  350008.55253004  332306.75354748  334813.28587785  546954.5053158\n",
            "  792060.77856058  388436.2566286   532183.27072737  834327.7329554\n",
            "  343871.98113123  363970.30632967  484112.96582779  314915.50058125\n",
            " 1286741.90614606  378144.90420833  380482.06734204  204784.74181629\n",
            "  311010.23898636  618568.22351924  451675.59895294  634505.9845764\n",
            "  499824.86132262  430204.20128898 1317165.86019807  338115.94756787\n",
            "  491193.71539849  784671.23374131  731028.50183639  683710.13739099\n",
            "  478941.4941504   299885.92075747  459719.01222009  584375.24952869\n",
            "  437524.26866306  324894.38535417  558597.02688753  545830.23903931\n",
            "  279245.39759142  845155.8991462   439727.15424276  469667.41504531\n",
            "  396636.22812463  447920.07761714  328581.56036502  519563.93907895\n",
            "  258682.17816304  523462.61543507  441366.18922231  898137.16808523\n",
            "  368180.41483502  419361.44360946  257903.20283231  411283.26091202\n",
            "  287128.4655254   620933.90420172  179678.83368337  803861.97338909\n",
            "  597013.90861838  536997.529077    511450.32511473  457921.90331881\n",
            "  454956.02284641  375241.72175311  898016.29145081  592429.7079113\n",
            "  846003.69944646  444828.04619368  816644.11023799  459506.69785872\n",
            "  332512.60255734  469667.41504531  546297.35274157 1061823.35285358\n",
            "  291080.06251238  572359.51883058  519685.5120894   519685.5120894\n",
            "  359816.41345944  884661.67578033  388137.26882557  403614.7894342\n",
            "  467671.88172669  292020.05884383  462275.15523826  552198.55012417\n",
            "  594496.26003756  414971.81907822  673166.75934758  398847.99009068\n",
            "  310631.05340974  395105.82870104  297185.62605312  565329.15204788\n",
            "  575466.17566797  512005.23579172  437016.1066293   418934.18986977\n",
            "  530159.68719423  339668.51362838  276289.91409534  573203.74527284\n",
            "  756227.71946375  418822.01981971  388136.59364463  429743.76196444\n",
            "  368423.81993816  307005.86134512  283038.94085732  590669.53877303\n",
            " 1085848.3862285  1078863.47884918  582413.37065134  963640.40486829\n",
            "  841825.08824836  261117.14680657  500648.06690837  565329.15204788\n",
            "  395379.17238025  670502.42373561  646489.0782617   564799.49205429\n",
            "  336343.2374148   593452.46878101  337911.26431868  590669.53877303\n",
            "  331624.63330315 1391863.32373909  418822.01981971  980003.56697064\n",
            "  414553.84587368 1298165.58344761  241464.24168269  899411.8015779\n",
            "  371905.46707156  396227.84714819  382182.33733614  563797.01655222\n",
            "  569155.87331241 1217108.43523695  382522.48396225  417920.73516433\n",
            "  394045.1978358  1066845.7500024   666214.2884496   561559.69758061\n",
            "  417920.73516433  517787.39732612  681985.4776951   242141.09653827\n",
            "  332351.87497102  450888.70560533  546954.5053158   429081.83529294\n",
            "  596086.29064135  328040.5418069   353176.75967583  255955.25543326\n",
            "  663562.6714788   565329.15204788  446535.59697895  438329.38733876\n",
            "  617620.20907669  348024.46755335  368822.44368817  353686.68899549\n",
            "  514858.01379248  770153.17082808  455852.49398621  405706.4184494\n",
            "  453757.31357448  297611.33198237  320885.92417594  474753.38227182\n",
            " 1108856.93289905  814173.6008219   517787.39732612  410422.40570899\n",
            "  396530.64090419  359304.04460766  388651.56381536  604484.80594413\n",
            "  375102.75848928  517688.43656008  320176.37994166  447061.9843408\n",
            "  554446.69187728  303366.27342527  873112.79333815  282984.26999092\n",
            "  345477.24829136  428250.49741234  271901.56261377  453959.1332121\n",
            "  395105.82870104  851676.16834611  502280.14020035  459816.66975337\n",
            "  405887.95792351  788953.24247398  429621.86712002  316988.4358404\n",
            "  517787.39732612  394825.25524845  287815.17003401  446535.59697895\n",
            "  366654.00047551  679706.55752809  430597.18464405  623405.91357958\n",
            "  553702.63350987  850691.18151036  375428.27948362  391998.85419355\n",
            "  732452.95252907  479819.30187074  382505.91544711  544816.45320599\n",
            "  362277.61358886  503358.74959555  427385.44503436  347791.70237563\n",
            "  391381.59623218  500234.24609559  378206.87695562  573060.71606413\n",
            "  313149.0781395   428481.64394999 1397572.15955472  583655.17267519\n",
            " 1383801.40840825  380209.99478248  590669.53877303  426327.92365405\n",
            "  711649.24582994  593045.83833343  430085.37270602  414386.50712924\n",
            "  664153.40803364  773104.83479561  570453.23402092  312090.3804579\n",
            "  296221.44553792  258682.17816304  543127.78405127  811411.30914492\n",
            "  476618.25287238  370954.71028568  539070.42813823  537179.46557297\n",
            " 1010288.44546664  367419.40984722  401256.46588411 1050258.9899979\n",
            "  326418.26343149  289978.52134016  491193.71539849  525372.62470861\n",
            "  537443.27579078  257258.9589428   663142.81740875  487962.11836528\n",
            "  384761.35670347  330568.0262358   332273.98509861  394270.5685476\n",
            "  448424.28125571  257310.54997625  565329.15204788  724517.95008152\n",
            "  683865.92471212  519685.5120894   323318.93042204  804312.90225753\n",
            "  330225.8612605   536997.529077    714092.2439819   729435.81752152\n",
            "  415550.64870467  727864.56999069  541983.0947846   950450.51167889\n",
            "  386624.89723068  627630.37351357 1281803.66788299  537372.39537557\n",
            "  486209.45279728  390002.48137294  462656.15740721  818681.79023211\n",
            " 1101567.83618722  568303.06551659  450488.9151467   280327.67646031\n",
            "  565230.19128184  611192.39903859  565329.15204788  396636.22812463\n",
            "  419121.68280367  278957.93884397  470606.89210627  658913.39863571\n",
            "  686969.11965224  401339.20447986  525342.73247309  688177.22397155\n",
            "  303840.08247793  304467.25837142  477972.90907615  484078.68794459\n",
            " 1362015.10593211  524466.57574835  335923.60974088  464392.12763795\n",
            "  420251.52867818  546954.5053158   878139.03945853  821510.41208765\n",
            "  319065.66014807  292630.89383734  387849.85376114  276571.11999047\n",
            "  439698.686648    443363.75224596  282003.44424906  669065.12504292\n",
            "  457256.32601999  653978.31096739  464030.29292369  388732.92377117\n",
            "  615716.07924724  446456.4603575   496530.75511261  883241.88480835\n",
            "  384814.36075605  956864.10396757  907050.53146071  462846.90373958\n",
            "  824479.75189937 1144252.71758388  302137.49611156  487366.99413396\n",
            "  688249.78915968  454893.08324657  345861.04346335  491944.30314233\n",
            "  521461.83600601  388686.5506361   381587.96742809  427784.02522977\n",
            "  431614.62686425  788764.16052666  565674.29989041 1143398.66610015\n",
            "  536493.8828843   642811.24231194  545025.89881455  375797.30526597\n",
            "  487597.560629    355875.89701617  235943.77384838  472719.12854087\n",
            "  684350.50270701 1262785.81616927  442629.73909296  611785.64597956\n",
            "  990634.80853896  659331.83905273  506436.36382951  331624.63330315\n",
            "  444937.32271297  556566.61310314 1130452.49603093  393116.68848151\n",
            "  456374.5056926   304140.58595479  288501.94676253  491301.49039316\n",
            "  307379.59456071  350988.91352634  530632.62916828  346671.11230651\n",
            "  485093.70580534  680204.10114672  705157.22731562  759499.60887017\n",
            "  296043.8494847   383545.22380536  263889.42803997  358604.76713134\n",
            "  303821.25367234  382806.94727563  652467.73671958  913834.95374316\n",
            "  634336.77343258  420156.92710905  547358.90813255  691792.38531318\n",
            "  658644.65178621 1174092.71803083  291353.87328143  345756.80227362\n",
            "  822498.05040351  491202.52962712  459627.69735845  439447.10763882\n",
            "  396813.88450134  402462.09104279  446072.72552231  343541.37312456\n",
            "  503214.4652531   330979.03655057  308025.01444574  411487.87156373\n",
            "  640288.0158476   406288.81230732  448807.10083314  424095.65344146\n",
            "  551624.67925396  458336.49602374  249763.96307477  517787.39732612\n",
            "  517787.39732612 1071802.43934585  590964.1391035   750508.13548918\n",
            "  795393.69792473  406574.90892115  453444.84862351  415292.52958243\n",
            "  428723.5930445   716651.02302107  363756.07044039  297185.62605312\n",
            "  482828.5901531   430981.5134848   607457.26428997  523568.31672019\n",
            "  276810.53211079  398270.93521593 1048282.52234762  545022.71331698\n",
            "  278730.8685717   659430.79981877  700434.61910075  430896.84762801\n",
            "  408933.72237386  425492.71162069  338834.74388526  331202.63333879\n",
            "  756331.27725165  262686.55580428  546704.55994676  438329.38733876\n",
            "  468429.68376169  590318.32310277  663257.5210833   464030.29292369\n",
            "  565230.19128184  860854.09003132  435472.560625    463931.33215765\n",
            "  461465.9656559   505023.96150739  511436.38520644  487366.99413396\n",
            "  322619.86341999 1111584.04085161  381237.92790314 1022146.93718281\n",
            "  506554.57608057  628462.57960198  444903.94094022  341046.11603897\n",
            "  337588.86722304  444937.32271297  519685.5120894   563032.0594556\n",
            "  464030.29292369  360949.85281553  537882.66232443  375241.72175311\n",
            "  524297.45012993  422282.83510655  389289.96721698  523701.59884932\n",
            "  569155.87331241  508391.59133512  529742.36760244  378268.34768077\n",
            "  409880.6534815   405706.4184494   525528.96226792  421553.57004691\n",
            "  393633.21700742  407483.49392249  390232.99428983  720657.98618686\n",
            "  358394.88459103  272363.69313891  571712.75353726  898020.75445423\n",
            "  749181.26734513  323280.58936186  419012.20074675  376008.46492493\n",
            "  262178.89995032  533476.55189331 1491776.14010141  413172.15709212\n",
            "  355098.68389293  374179.98828306  725174.99156864  277961.46555093\n",
            "  842274.2332831   512241.4162806  1047344.22206433  549546.76373253\n",
            "  292510.72535673  445191.9326338   597648.24504765  848982.62041073\n",
            "  516708.26015717  393828.51480134  750603.36019991  371779.49355537\n",
            "  840152.31379598  659430.79981877  460265.09235273  770314.19979019\n",
            "  496134.95277747  498479.6893586   396375.68376274  523512.23335393\n",
            "  469315.12093738  821510.41208765  928499.82154977  709514.97652409\n",
            "  475467.00557033  460462.68581169 2021334.90316244  501737.23534724\n",
            " 1640463.12121134  942299.28900319  773361.25095099  600707.4196781\n",
            "  321882.56356462  372700.66565852  390630.57640793  374625.25668285\n",
            "  374562.67775186  315309.92952611  967965.73312027  302184.87195653\n",
            "  519056.08106358  742714.64196477  419930.11931563  471875.98370411\n",
            "  397572.25611637  728903.61254038  376527.38692305  312588.21432043\n",
            "  549546.76373253  281632.21644492  420251.52867818  432803.74417036\n",
            "  447061.9843408   545796.39443236  295881.54311623  422302.12669084\n",
            "  453632.70298309  552481.70368936  473165.8392526   618568.22351924\n",
            "  285219.62594281  470014.42251516  374125.12905506  408438.37672522\n",
            "  438362.10417863  273291.40839923  698559.9558436   527929.29753673]\n"
          ]
        }
      ]
    },
    {
      "cell_type": "code",
      "source": [
        "import pandas as pd\n",
        "from sklearn.model_selection import train_test_split\n",
        "from sklearn.preprocessing import OneHotEncoder\n",
        "from sklearn.ensemble import RandomForestRegressor\n",
        "from sklearn.metrics import mean_squared_error\n"
      ],
      "metadata": {
        "id": "5RhDCUrqUVSe"
      },
      "execution_count": 92,
      "outputs": []
    },
    {
      "cell_type": "code",
      "source": [
        "# Sample data\n",
        "data = {\n",
        "    'area': [1500, 2500, 1800, 3000, 1200],\n",
        "    'bedrooms': [3, 4, 3, 5, 2],\n",
        "    'location': ['New York', 'Los Angeles', 'New York', 'Chicago', 'Chicago'],\n",
        "    'price': [400000, 600000, 500000, 650000, 300000]\n",
        "}\n"
      ],
      "metadata": {
        "id": "lQTLBUTNeuKa"
      },
      "execution_count": 93,
      "outputs": []
    },
    {
      "cell_type": "code",
      "source": [
        "# Creating DataFrame\n",
        "df = pd.DataFrame(data)\n"
      ],
      "metadata": {
        "id": "vSv4aqXGe2au"
      },
      "execution_count": 94,
      "outputs": []
    },
    {
      "cell_type": "code",
      "source": [
        "# Separating features and target\n",
        "X = df[['area', 'bedrooms', 'location']]\n",
        "y = df['price'] # target"
      ],
      "metadata": {
        "id": "dfiCr0d1e59z"
      },
      "execution_count": 95,
      "outputs": []
    },
    {
      "cell_type": "code",
      "source": [
        "# One-hot encoding for the 'location' feature\n",
        "encoder = OneHotEncoder()\n",
        "X_encoded = encoder.fit_transform(X[['location']]).toarray()\n"
      ],
      "metadata": {
        "id": "fDDW7d1yfB0S"
      },
      "execution_count": 96,
      "outputs": []
    },
    {
      "cell_type": "code",
      "source": [
        "# Creating a DataFrame with encoded features\n",
        "X_encoded_df = pd.DataFrame(X_encoded, columns=encoder.get_feature_names_out(['location']))\n"
      ],
      "metadata": {
        "id": "UPnikJGGfVNy"
      },
      "execution_count": 97,
      "outputs": []
    },
    {
      "cell_type": "code",
      "source": [
        "# Concatenating with the original features\n",
        "X = pd.concat([X[['area', 'bedrooms']].reset_index(drop=True), X_encoded_df], axis=1)\n"
      ],
      "metadata": {
        "id": "KSDvE26zfcpg"
      },
      "execution_count": 99,
      "outputs": []
    },
    {
      "cell_type": "code",
      "source": [
        "# Splitting the data into training and test sets\n",
        "X_train, X_test, y_train, y_test = train_test_split(X, y, test_size=0.2, random_state=42)\n"
      ],
      "metadata": {
        "id": "NZuufV64gaOe"
      },
      "execution_count": 100,
      "outputs": []
    },
    {
      "cell_type": "code",
      "source": [
        "# Creating and training the Random Forest Regressor\n",
        "model = RandomForestRegressor(n_estimators=100, random_state=42)\n",
        "model.fit(X_train, y_train)"
      ],
      "metadata": {
        "colab": {
          "base_uri": "https://localhost:8080/",
          "height": 74
        },
        "id": "y_LC70o3ghOa",
        "outputId": "c1a973de-aeda-4be5-fc39-23a61d7b28de"
      },
      "execution_count": 101,
      "outputs": [
        {
          "output_type": "execute_result",
          "data": {
            "text/plain": [
              "RandomForestRegressor(random_state=42)"
            ],
            "text/html": [
              "<style>#sk-container-id-3 {color: black;}#sk-container-id-3 pre{padding: 0;}#sk-container-id-3 div.sk-toggleable {background-color: white;}#sk-container-id-3 label.sk-toggleable__label {cursor: pointer;display: block;width: 100%;margin-bottom: 0;padding: 0.3em;box-sizing: border-box;text-align: center;}#sk-container-id-3 label.sk-toggleable__label-arrow:before {content: \"▸\";float: left;margin-right: 0.25em;color: #696969;}#sk-container-id-3 label.sk-toggleable__label-arrow:hover:before {color: black;}#sk-container-id-3 div.sk-estimator:hover label.sk-toggleable__label-arrow:before {color: black;}#sk-container-id-3 div.sk-toggleable__content {max-height: 0;max-width: 0;overflow: hidden;text-align: left;background-color: #f0f8ff;}#sk-container-id-3 div.sk-toggleable__content pre {margin: 0.2em;color: black;border-radius: 0.25em;background-color: #f0f8ff;}#sk-container-id-3 input.sk-toggleable__control:checked~div.sk-toggleable__content {max-height: 200px;max-width: 100%;overflow: auto;}#sk-container-id-3 input.sk-toggleable__control:checked~label.sk-toggleable__label-arrow:before {content: \"▾\";}#sk-container-id-3 div.sk-estimator input.sk-toggleable__control:checked~label.sk-toggleable__label {background-color: #d4ebff;}#sk-container-id-3 div.sk-label input.sk-toggleable__control:checked~label.sk-toggleable__label {background-color: #d4ebff;}#sk-container-id-3 input.sk-hidden--visually {border: 0;clip: rect(1px 1px 1px 1px);clip: rect(1px, 1px, 1px, 1px);height: 1px;margin: -1px;overflow: hidden;padding: 0;position: absolute;width: 1px;}#sk-container-id-3 div.sk-estimator {font-family: monospace;background-color: #f0f8ff;border: 1px dotted black;border-radius: 0.25em;box-sizing: border-box;margin-bottom: 0.5em;}#sk-container-id-3 div.sk-estimator:hover {background-color: #d4ebff;}#sk-container-id-3 div.sk-parallel-item::after {content: \"\";width: 100%;border-bottom: 1px solid gray;flex-grow: 1;}#sk-container-id-3 div.sk-label:hover label.sk-toggleable__label {background-color: #d4ebff;}#sk-container-id-3 div.sk-serial::before {content: \"\";position: absolute;border-left: 1px solid gray;box-sizing: border-box;top: 0;bottom: 0;left: 50%;z-index: 0;}#sk-container-id-3 div.sk-serial {display: flex;flex-direction: column;align-items: center;background-color: white;padding-right: 0.2em;padding-left: 0.2em;position: relative;}#sk-container-id-3 div.sk-item {position: relative;z-index: 1;}#sk-container-id-3 div.sk-parallel {display: flex;align-items: stretch;justify-content: center;background-color: white;position: relative;}#sk-container-id-3 div.sk-item::before, #sk-container-id-3 div.sk-parallel-item::before {content: \"\";position: absolute;border-left: 1px solid gray;box-sizing: border-box;top: 0;bottom: 0;left: 50%;z-index: -1;}#sk-container-id-3 div.sk-parallel-item {display: flex;flex-direction: column;z-index: 1;position: relative;background-color: white;}#sk-container-id-3 div.sk-parallel-item:first-child::after {align-self: flex-end;width: 50%;}#sk-container-id-3 div.sk-parallel-item:last-child::after {align-self: flex-start;width: 50%;}#sk-container-id-3 div.sk-parallel-item:only-child::after {width: 0;}#sk-container-id-3 div.sk-dashed-wrapped {border: 1px dashed gray;margin: 0 0.4em 0.5em 0.4em;box-sizing: border-box;padding-bottom: 0.4em;background-color: white;}#sk-container-id-3 div.sk-label label {font-family: monospace;font-weight: bold;display: inline-block;line-height: 1.2em;}#sk-container-id-3 div.sk-label-container {text-align: center;}#sk-container-id-3 div.sk-container {/* jupyter's `normalize.less` sets `[hidden] { display: none; }` but bootstrap.min.css set `[hidden] { display: none !important; }` so we also need the `!important` here to be able to override the default hidden behavior on the sphinx rendered scikit-learn.org. See: https://github.com/scikit-learn/scikit-learn/issues/21755 */display: inline-block !important;position: relative;}#sk-container-id-3 div.sk-text-repr-fallback {display: none;}</style><div id=\"sk-container-id-3\" class=\"sk-top-container\"><div class=\"sk-text-repr-fallback\"><pre>RandomForestRegressor(random_state=42)</pre><b>In a Jupyter environment, please rerun this cell to show the HTML representation or trust the notebook. <br />On GitHub, the HTML representation is unable to render, please try loading this page with nbviewer.org.</b></div><div class=\"sk-container\" hidden><div class=\"sk-item\"><div class=\"sk-estimator sk-toggleable\"><input class=\"sk-toggleable__control sk-hidden--visually\" id=\"sk-estimator-id-3\" type=\"checkbox\" checked><label for=\"sk-estimator-id-3\" class=\"sk-toggleable__label sk-toggleable__label-arrow\">RandomForestRegressor</label><div class=\"sk-toggleable__content\"><pre>RandomForestRegressor(random_state=42)</pre></div></div></div></div></div>"
            ]
          },
          "metadata": {},
          "execution_count": 101
        }
      ]
    },
    {
      "cell_type": "code",
      "source": [
        "# Predicting the prices on the test set\n",
        "y_pred = model.predict(X_test)\n"
      ],
      "metadata": {
        "id": "gNZfZTp1guHi"
      },
      "execution_count": 102,
      "outputs": []
    },
    {
      "cell_type": "code",
      "source": [
        "# Evaluating the model\n",
        "mse = mean_squared_error(y_test, y_pred)\n",
        "rmse = mse ** 0.5\n"
      ],
      "metadata": {
        "id": "rpk85QTTgzi6"
      },
      "execution_count": 103,
      "outputs": []
    },
    {
      "cell_type": "code",
      "source": [
        "print(f\"Predicted prices: {y_pred}\")\n",
        "print(f\"RMSE: {rmse}\")"
      ],
      "metadata": {
        "colab": {
          "base_uri": "https://localhost:8080/"
        },
        "id": "ZxH0Jv6Kg2ei",
        "outputId": "4156f3be-2a71-478d-9003-6af752667906"
      },
      "execution_count": 104,
      "outputs": [
        {
          "output_type": "stream",
          "name": "stdout",
          "text": [
            "Predicted prices: [524500.]\n",
            "RMSE: 75500.0\n"
          ]
        }
      ]
    }
  ]
}